{
 "cells": [
  {
   "cell_type": "markdown",
   "id": "33347650",
   "metadata": {},
   "source": [
    "# Table of Content: <a class=\"anchor\" id=\"table-of-content\"></a>\n",
    "* [1. Problem Background and Motivation](#problem-background)\n",
    "* [2. Libraries and Custom Functions](#import-packages)\n",
    "* [3. Data Exploration/Prep](#data-prep)\n",
    "* [4. Machine Learning Model](#ml-model)\n",
    "* [5. Deployment of Model](#model-deployment)"
   ]
  },
  {
   "cell_type": "markdown",
   "id": "9a6426a9",
   "metadata": {},
   "source": [
    "# 1. Problem Background and Motivation <a class=\"anchor\" id=\"problem-background\"></a>\n",
    "\n",
    "<img src='' width=\"700\" />\n",
    "\n",
    ">- Brief Description of the problem\n",
    "</br>Pretend you are a data analyst consultant working for the airline industry.  Your goal is to optimize the tuning of a classification model that predicts flights that are likely to be delayed.Drawing conclusions from a wide range of aviation system data and articulating key findings. Conducting quantitative data analysis, including data retrieval, processing, analysis, and visualization of various datasets.\n",
    ">- Brief mention of key stakeholders - who would be interested in this analysis?\n",
    "</br>The key stakeholders in this case would be Investors,Customers  and National regulatory bodies which determine air corridors, air traffic control, and the conditions under which airlines are allowed to operate in the country.\n",
    "<img src=\"https://miro.medium.com/max/590/1*7pKBn-RXnqvrl-joQgMwZw.jpeg\"/>\n",
    "\n",
    "\n",
    "* [Go to Top](#table-of-content)"
   ]
  },
  {
   "cell_type": "markdown",
   "id": "2576fd06",
   "metadata": {},
   "source": [
    "# 2. Libraries & Custom Functions <a class=\"anchor\" id=\"import-packages\"></a>\n",
    "* [Go to Top](#table-of-content)"
   ]
  },
  {
   "cell_type": "markdown",
   "id": "f0251918",
   "metadata": {},
   "source": [
    "## 2. Import Package <a class=\"anchor\" id=\"import-package\"></a>\n",
    "<br>\n",
    "\n",
    "### Libraries<br>\n",
    "\n",
    ">**Numpy and Pandas:**<br>\n",
    "We use it to import the data files which has multi-dimensional arrays and matrices and for data manipulations  <br>\n",
    "\n",
    ">**SKLearn:**<br>\n",
    "Sklearn provides multiple machine learning and statistical models to which can best describe the pattern in the data. It also provides metrics toevaluate the performance of the model    <br>\n",
    ">**Matplotlib, Seaboen, Plotly and Cufflink:**<br>\n",
    "These libraries are used for data visualization\n"
   ]
  },
  {
   "cell_type": "code",
   "execution_count": 1,
   "id": "db4b474a",
   "metadata": {},
   "outputs": [],
   "source": [
    "import pandas as pd    #We use it to import the data files which has multi-dimensional arrays and matrices and for data manipulations\n",
    "pd.set_option('display.max_columns', None)\n",
    "pd.options.display.float_format = '{:.2f}'.format\n",
    "import numpy as np\n",
    "\n",
    "# Graphics\n",
    "import seaborn as sns  #These libraries are used for data visualization\n",
    "import matplotlib.pyplot as plt\n",
    "import plotly.graph_objects as go\n",
    "\n",
    "# ML\n",
    "from sklearn.model_selection import train_test_split #Sklearn provides multiple machine learning and statistical models\n",
    "from sklearn.linear_model import LogisticRegression\n",
    "from sklearn.neighbors import NearestNeighbors, KNeighborsClassifier\n",
    "from sklearn import metrics\n",
    "\n",
    "\n",
    "# Custom function below is used to display performance measures\n",
    "# Required inputs are the model name and the two test data objects (X,y)\n",
    "def class_perf_measures(model,X_test,y_test):\n",
    "    # Create empty lists to store metric values created within loop\n",
    "    TP = []\n",
    "    TN = []\n",
    "    FP = []\n",
    "    FN = []\n",
    "    recall = []\n",
    "    precision = []\n",
    "    F1 = []\n",
    "    Accuracy = []\n",
    "    \n",
    "    # Create list of probability threshold values to loop over\n",
    "    threshold = np.arange(0,1.1,0.1).tolist()\n",
    "\n",
    "    # Start loop\n",
    "    for i in threshold:\n",
    "\n",
    "        # Create class assignments given threshold value\n",
    "        y_test_pred_class = (model.predict_proba(X_test)[:,1] >= i).astype(int)\n",
    "\n",
    "        # Append lists with metric values\n",
    "        TP.append(metrics.confusion_matrix(y_test, y_test_pred_class)[1,1])\n",
    "        TN.append(metrics.confusion_matrix(y_test, y_test_pred_class)[0,0])\n",
    "        FP.append(metrics.confusion_matrix(y_test, y_test_pred_class)[0,1])\n",
    "        FN.append(metrics.confusion_matrix(y_test, y_test_pred_class)[1,0])\n",
    "        recall.append(metrics.recall_score(y_test, y_test_pred_class).round(3))\n",
    "        precision.append(metrics.precision_score(y_test, y_test_pred_class).round(3))\n",
    "        F1.append(metrics.f1_score(y_test, y_test_pred_class).round(2))\n",
    "        Accuracy.append(metrics.accuracy_score(y_test, y_test_pred_class).round(2))\n",
    "\n",
    "    # Create dataframe\n",
    "    result = pd.DataFrame({\"threshold\":threshold,\n",
    "                           \"TP\":TP,\n",
    "                           \"TN\":TN,\n",
    "                           \"FP\":FP,\n",
    "                           \"FN\":FN,\n",
    "                           \"Precision\":precision,\n",
    "                           \"Recall\":recall,\n",
    "                           \"Accuracy\": Accuracy\n",
    "                          })\n",
    "\n",
    "    # Let's look at our dataframe\n",
    "    return result"
   ]
  },
  {
   "cell_type": "code",
   "execution_count": 2,
   "id": "ef02c743",
   "metadata": {},
   "outputs": [],
   "source": [
    "# Read in data - see what we're dealing with\n",
    "df = pd.read_csv('FlightDelays_Clean.csv')\n",
    "#df.tail()"
   ]
  },
  {
   "cell_type": "markdown",
   "id": "4cb07bcc",
   "metadata": {},
   "source": [
    "> **Initial Evaluation: Notes on Findings**<br><br>\n",
    ">**Observations:**<br>\n",
    ">>**Target:** label (1 if delayed, 0 otherwise<br><br>\n",
    "\n",
    ">[Go to Data Prep Outline](#data-prep)\n",
    "---"
   ]
  },
  {
   "cell_type": "markdown",
   "id": "8d76475b",
   "metadata": {},
   "source": [
    "\n",
    ">[Go to Data Prep Outline](#data-prep)\n",
    "---"
   ]
  },
  {
   "cell_type": "markdown",
   "id": "1fad2a61",
   "metadata": {},
   "source": [
    "> **Data Partitioning** <a class=\"anchor\" id=\"data-split\"></a>\n",
    "<br>\n",
    ">To Do:<br>\n",
    "><br>predictor variables into new object called 'X'\n",
    "><br>target variable in new object called 'y'\n",
    "><br>Partition data into training set and testing set<br>\n",
    "\n",
    ">"
   ]
  },
  {
   "cell_type": "code",
   "execution_count": 3,
   "id": "0426fd63",
   "metadata": {},
   "outputs": [],
   "source": [
    "target = ['status_delayed']\n",
    "\n",
    "X = df.drop(target,axis=1)#putting predictor variables into new object X\n",
    "y = df[target]#putting target varaible in new object called y\n",
    "\n",
    "# Split data\n",
    "X_train,X_test,y_train,y_test = train_test_split(X,y, test_size=0.3,random_state=6)"
   ]
  },
  {
   "cell_type": "markdown",
   "id": "c2dd5ed1",
   "metadata": {},
   "source": [
    ">[Go to Data Prep Outline](#data-prep)\n",
    "---"
   ]
  },
  {
   "cell_type": "markdown",
   "id": "9a78b5dc",
   "metadata": {},
   "source": [
    "> **Data Normalization** <a class=\"anchor\" id=\"normalization\"></a>\n",
    "<br><br>\n",
    ">**Note:**<br>\n",
    ">We do this AFTER splitting the data because we only want to use summary stats<br>\n",
    ">from the TRAINING data to normalize BOTH TRAIN and TEST data<br>\n",
    "<br><br>\n",
    ">OPTIONAL - though it is a good idea to get in the habit of doing this when working with the kNN classifier"
   ]
  },
  {
   "cell_type": "code",
   "execution_count": 4,
   "id": "0e0895de",
   "metadata": {},
   "outputs": [],
   "source": [
    "# Normalize predictor variables using Z-Scores.\n",
    "# Use means and standard deviations of features as calculated in the TRAINING DATA\n",
    "# New values are centered at 0.  Values reflect the number of standard deviations\n",
    "# each record is above or below the mean.\n",
    "\n",
    "features_means = X_train.mean()\n",
    "features_std = X_train.std()\n",
    "\n",
    "X_train = (X_train - features_means)/features_std\n",
    "X_test = (X_test - features_means)/features_std"
   ]
  },
  {
   "cell_type": "markdown",
   "id": "b68ebb4f",
   "metadata": {},
   "source": [
    ">[Go to Data Prep Outline](#data-prep)\n",
    "---"
   ]
  },
  {
   "cell_type": "markdown",
   "id": "ac34ce1b",
   "metadata": {},
   "source": [
    "# 4. Machine Learning <a class=\"anchor\" id=\"ml-model\"></a>\n",
    "\n",
    "- [X] [kNN](#first-model)\n",
    "- [X] [Logistic Model](#second-model)\n",
    "- [ ] [Performance Evaluation](#third-model)\n",
    "\n",
    "\n",
    "* [Go to Top](#table-of-content)"
   ]
  },
  {
   "cell_type": "markdown",
   "id": "e95304c7",
   "metadata": {},
   "source": [
    "> **kNN** <a class=\"anchor\" id=\"first-model\"></a>\n",
    "\n",
    ">1. Fit numerous kNN models using different values for k. <br>\n",
    ">2. Choose the \"best\" value for \"k\" based on Accuracy"
   ]
  },
  {
   "cell_type": "code",
   "execution_count": 5,
   "id": "e1a5e6f8",
   "metadata": {
    "scrolled": true
   },
   "outputs": [
    {
     "data": {
      "text/html": [
       "<div>\n",
       "<style scoped>\n",
       "    .dataframe tbody tr th:only-of-type {\n",
       "        vertical-align: middle;\n",
       "    }\n",
       "\n",
       "    .dataframe tbody tr th {\n",
       "        vertical-align: top;\n",
       "    }\n",
       "\n",
       "    .dataframe thead th {\n",
       "        text-align: right;\n",
       "    }\n",
       "</style>\n",
       "<table border=\"1\" class=\"dataframe\">\n",
       "  <thead>\n",
       "    <tr style=\"text-align: right;\">\n",
       "      <th></th>\n",
       "      <th>k</th>\n",
       "      <th>accuracy</th>\n",
       "    </tr>\n",
       "  </thead>\n",
       "  <tbody>\n",
       "    <tr>\n",
       "      <th>0</th>\n",
       "      <td>1</td>\n",
       "      <td>0.75</td>\n",
       "    </tr>\n",
       "    <tr>\n",
       "      <th>1</th>\n",
       "      <td>3</td>\n",
       "      <td>0.77</td>\n",
       "    </tr>\n",
       "    <tr>\n",
       "      <th>2</th>\n",
       "      <td>5</td>\n",
       "      <td>0.79</td>\n",
       "    </tr>\n",
       "    <tr>\n",
       "      <th>3</th>\n",
       "      <td>7</td>\n",
       "      <td>0.81</td>\n",
       "    </tr>\n",
       "    <tr>\n",
       "      <th>4</th>\n",
       "      <td>9</td>\n",
       "      <td>0.82</td>\n",
       "    </tr>\n",
       "    <tr>\n",
       "      <th>5</th>\n",
       "      <td>11</td>\n",
       "      <td>0.81</td>\n",
       "    </tr>\n",
       "    <tr>\n",
       "      <th>6</th>\n",
       "      <td>13</td>\n",
       "      <td>0.82</td>\n",
       "    </tr>\n",
       "    <tr>\n",
       "      <th>7</th>\n",
       "      <td>15</td>\n",
       "      <td>0.82</td>\n",
       "    </tr>\n",
       "    <tr>\n",
       "      <th>8</th>\n",
       "      <td>17</td>\n",
       "      <td>0.82</td>\n",
       "    </tr>\n",
       "    <tr>\n",
       "      <th>9</th>\n",
       "      <td>19</td>\n",
       "      <td>0.82</td>\n",
       "    </tr>\n",
       "    <tr>\n",
       "      <th>10</th>\n",
       "      <td>21</td>\n",
       "      <td>0.83</td>\n",
       "    </tr>\n",
       "  </tbody>\n",
       "</table>\n",
       "</div>"
      ],
      "text/plain": [
       "     k  accuracy\n",
       "0    1      0.75\n",
       "1    3      0.77\n",
       "2    5      0.79\n",
       "3    7      0.81\n",
       "4    9      0.82\n",
       "5   11      0.81\n",
       "6   13      0.82\n",
       "7   15      0.82\n",
       "8   17      0.82\n",
       "9   19      0.82\n",
       "10  21      0.83"
      ]
     },
     "execution_count": 5,
     "metadata": {},
     "output_type": "execute_result"
    }
   ],
   "source": [
    "# 1. train a classifier for different values of k\n",
    "results = []\n",
    "for k in [1,3,5,7,9,11,13,15,17,19,21]:\n",
    "    knn = KNeighborsClassifier(n_neighbors=k)\n",
    "    knn.fit(X_train,y_train.values.ravel())\n",
    "    \n",
    "    # Get predicted class\n",
    "    y_pred_class = knn.predict(X_test)\n",
    "    \n",
    "    # Put Accuracy Score in results object\n",
    "    results.append({'k':k,\n",
    "                    'accuracy':metrics.accuracy_score(y_test,y_pred_class)\n",
    "                   }\n",
    "                  )\n",
    "# Put results from above into a Pandas Dataframe\n",
    "results_df = pd.DataFrame(results)\n",
    "results_df"
   ]
  },
  {
   "cell_type": "markdown",
   "id": "b57cd4d6",
   "metadata": {},
   "source": [
    ">**Decision:**<br>\n",
    "Based on the results, I will set my number of neighbors (k) to 7 as this is the lowest value that achieves the highest accuracy value<br>\n",
    "\n"
   ]
  },
  {
   "cell_type": "code",
   "execution_count": 6,
   "id": "b654f41e",
   "metadata": {
    "scrolled": true
   },
   "outputs": [
    {
     "name": "stdout",
     "output_type": "stream",
     "text": [
      "Training data Accuracy: 0.83\n",
      "Testing data Accuracy: 0.81\n"
     ]
    }
   ],
   "source": [
    "knn = KNeighborsClassifier(n_neighbors=7)\n",
    "knn.fit(X_train,y_train.values.ravel())\n",
    "\n",
    "# Let's do a quick check to see if we have to worry about problems of overfitting.\n",
    "# Remember!  Small values for \"k\" in kNN tend to lead to overfitting.\n",
    "# Large value for \"k\" in kNN tend to produce underfit models\n",
    "y_train_pred_class = knn.predict(X_train)\n",
    "y_test_pred_class = knn.predict(X_test)\n",
    "\n",
    "print('Training data Accuracy:', metrics.accuracy_score(y_train,y_train_pred_class).round(2))\n",
    "print('Testing data Accuracy:', metrics.accuracy_score(y_test,y_test_pred_class).round(2))\n"
   ]
  },
  {
   "cell_type": "markdown",
   "id": "57f067f2",
   "metadata": {},
   "source": [
    ">**Logistic Model:**<br>\n",
    ">Let's produce the same table above but this time using a Logistic Model\n",
    "\n",
    "\n"
   ]
  },
  {
   "cell_type": "code",
   "execution_count": 7,
   "id": "79e725db",
   "metadata": {},
   "outputs": [
    {
     "name": "stdout",
     "output_type": "stream",
     "text": [
      "Training data Accuracy: 0.81\n",
      "Testing data Accuracy: 0.84\n"
     ]
    }
   ],
   "source": [
    "lr_model = LogisticRegression()\n",
    "lr_model.fit(X_train,y_train.values.ravel())\n",
    "\n",
    "# Let's do a quick check to see if we have to worry about problems of overfitting.\n",
    "# Remember!  Small values for \"k\" in kNN tend to lead to overfitting.\n",
    "# Large value for \"k\" in kNN tend to produce underfit models\n",
    "y_train_pred_class = lr_model.predict(X_train)\n",
    "y_test_pred_class = lr_model.predict(X_test)\n",
    "\n",
    "print('Training data Accuracy:', metrics.accuracy_score(y_train,y_train_pred_class).round(2))\n",
    "print('Testing data Accuracy:', metrics.accuracy_score(y_test,y_test_pred_class).round(2))"
   ]
  },
  {
   "cell_type": "markdown",
   "id": "7ba26e13",
   "metadata": {},
   "source": [
    ">**Winning Model:**<br>\n",
    "We need to quickly decide which modeling framework to go forward with<br>\n",
    "To keep this simple - I'm going to use AUC and will choose the model that gives us the highest value"
   ]
  },
  {
   "cell_type": "code",
   "execution_count": 8,
   "id": "4b504f4f",
   "metadata": {},
   "outputs": [
    {
     "name": "stderr",
     "output_type": "stream",
     "text": [
      "C:\\Users\\SHREYASH\\anaconda3\\lib\\site-packages\\sklearn\\utils\\deprecation.py:87: FutureWarning: Function plot_roc_curve is deprecated; Function :func:`plot_roc_curve` is deprecated in 1.0 and will be removed in 1.2. Use one of the class methods: :meth:`sklearn.metric.RocCurveDisplay.from_predictions` or :meth:`sklearn.metric.RocCurveDisplay.from_estimator`.\n",
      "  warnings.warn(msg, category=FutureWarning)\n"
     ]
    },
    {
     "data": {
      "image/png": "[encoded data removed]",
      "text/plain": [
       "<Figure size 432x288 with 1 Axes>"
      ]
     },
     "metadata": {
      "needs_background": "light"
     },
     "output_type": "display_data"
    },
    {
     "name": "stderr",
     "output_type": "stream",
     "text": [
      "C:\\Users\\SHREYASH\\anaconda3\\lib\\site-packages\\sklearn\\utils\\deprecation.py:87: FutureWarning: Function plot_roc_curve is deprecated; Function :func:`plot_roc_curve` is deprecated in 1.0 and will be removed in 1.2. Use one of the class methods: :meth:`sklearn.metric.RocCurveDisplay.from_predictions` or :meth:`sklearn.metric.RocCurveDisplay.from_estimator`.\n",
      "  warnings.warn(msg, category=FutureWarning)\n"
     ]
    },
    {
     "data": {
      "image/png": "[encoded data removed]",
      "text/plain": [
       "<Figure size 432x288 with 1 Axes>"
      ]
     },
     "metadata": {
      "needs_background": "light"
     },
     "output_type": "display_data"
    }
   ],
   "source": [
    "# ROC curve for kNN\n",
    "metrics.plot_roc_curve(knn,X_test,y_test)\n",
    "plt.show()\n",
    "\n",
    "# ROC curve for Logistic Model\n",
    "metrics.plot_roc_curve(lr_model,X_test,y_test)\n",
    "plt.show()"
   ]
  },
  {
   "cell_type": "markdown",
   "id": "ab508463",
   "metadata": {},
   "source": [
    "\n",
    "AUC is highest for our Logistic Model so use that model to further evaluate probability thresholds and corresponding performance measures."
   ]
  },
  {
   "cell_type": "code",
   "execution_count": 9,
   "id": "6a0e669a",
   "metadata": {
    "scrolled": false
   },
   "outputs": [
    {
     "name": "stderr",
     "output_type": "stream",
     "text": [
      "C:\\Users\\SHREYASH\\anaconda3\\lib\\site-packages\\sklearn\\metrics\\_classification.py:1318: UndefinedMetricWarning: Precision is ill-defined and being set to 0.0 due to no predicted samples. Use `zero_division` parameter to control this behavior.\n",
      "  _warn_prf(average, modifier, msg_start, len(result))\n"
     ]
    },
    {
     "data": {
      "text/html": [
       "<div>\n",
       "<style scoped>\n",
       "    .dataframe tbody tr th:only-of-type {\n",
       "        vertical-align: middle;\n",
       "    }\n",
       "\n",
       "    .dataframe tbody tr th {\n",
       "        vertical-align: top;\n",
       "    }\n",
       "\n",
       "    .dataframe thead th {\n",
       "        text-align: right;\n",
       "    }\n",
       "</style>\n",
       "<table border=\"1\" class=\"dataframe\">\n",
       "  <thead>\n",
       "    <tr style=\"text-align: right;\">\n",
       "      <th></th>\n",
       "      <th>threshold</th>\n",
       "      <th>TP</th>\n",
       "      <th>TN</th>\n",
       "      <th>FP</th>\n",
       "      <th>FN</th>\n",
       "      <th>Precision</th>\n",
       "      <th>Recall</th>\n",
       "      <th>Accuracy</th>\n",
       "    </tr>\n",
       "  </thead>\n",
       "  <tbody>\n",
       "    <tr>\n",
       "      <th>0</th>\n",
       "      <td>0.00</td>\n",
       "      <td>121</td>\n",
       "      <td>0</td>\n",
       "      <td>540</td>\n",
       "      <td>0</td>\n",
       "      <td>0.18</td>\n",
       "      <td>1.00</td>\n",
       "      <td>0.18</td>\n",
       "    </tr>\n",
       "    <tr>\n",
       "      <th>1</th>\n",
       "      <td>0.10</td>\n",
       "      <td>111</td>\n",
       "      <td>108</td>\n",
       "      <td>432</td>\n",
       "      <td>10</td>\n",
       "      <td>0.20</td>\n",
       "      <td>0.92</td>\n",
       "      <td>0.33</td>\n",
       "    </tr>\n",
       "    <tr>\n",
       "      <th>2</th>\n",
       "      <td>0.20</td>\n",
       "      <td>91</td>\n",
       "      <td>326</td>\n",
       "      <td>214</td>\n",
       "      <td>30</td>\n",
       "      <td>0.30</td>\n",
       "      <td>0.75</td>\n",
       "      <td>0.63</td>\n",
       "    </tr>\n",
       "    <tr>\n",
       "      <th>3</th>\n",
       "      <td>0.30</td>\n",
       "      <td>49</td>\n",
       "      <td>476</td>\n",
       "      <td>64</td>\n",
       "      <td>72</td>\n",
       "      <td>0.43</td>\n",
       "      <td>0.41</td>\n",
       "      <td>0.79</td>\n",
       "    </tr>\n",
       "    <tr>\n",
       "      <th>4</th>\n",
       "      <td>0.40</td>\n",
       "      <td>19</td>\n",
       "      <td>533</td>\n",
       "      <td>7</td>\n",
       "      <td>102</td>\n",
       "      <td>0.73</td>\n",
       "      <td>0.16</td>\n",
       "      <td>0.84</td>\n",
       "    </tr>\n",
       "    <tr>\n",
       "      <th>5</th>\n",
       "      <td>0.50</td>\n",
       "      <td>14</td>\n",
       "      <td>540</td>\n",
       "      <td>0</td>\n",
       "      <td>107</td>\n",
       "      <td>1.00</td>\n",
       "      <td>0.12</td>\n",
       "      <td>0.84</td>\n",
       "    </tr>\n",
       "    <tr>\n",
       "      <th>6</th>\n",
       "      <td>0.60</td>\n",
       "      <td>14</td>\n",
       "      <td>540</td>\n",
       "      <td>0</td>\n",
       "      <td>107</td>\n",
       "      <td>1.00</td>\n",
       "      <td>0.12</td>\n",
       "      <td>0.84</td>\n",
       "    </tr>\n",
       "    <tr>\n",
       "      <th>7</th>\n",
       "      <td>0.70</td>\n",
       "      <td>14</td>\n",
       "      <td>540</td>\n",
       "      <td>0</td>\n",
       "      <td>107</td>\n",
       "      <td>1.00</td>\n",
       "      <td>0.12</td>\n",
       "      <td>0.84</td>\n",
       "    </tr>\n",
       "    <tr>\n",
       "      <th>8</th>\n",
       "      <td>0.80</td>\n",
       "      <td>14</td>\n",
       "      <td>540</td>\n",
       "      <td>0</td>\n",
       "      <td>107</td>\n",
       "      <td>1.00</td>\n",
       "      <td>0.12</td>\n",
       "      <td>0.84</td>\n",
       "    </tr>\n",
       "    <tr>\n",
       "      <th>9</th>\n",
       "      <td>0.90</td>\n",
       "      <td>14</td>\n",
       "      <td>540</td>\n",
       "      <td>0</td>\n",
       "      <td>107</td>\n",
       "      <td>1.00</td>\n",
       "      <td>0.12</td>\n",
       "      <td>0.84</td>\n",
       "    </tr>\n",
       "    <tr>\n",
       "      <th>10</th>\n",
       "      <td>1.00</td>\n",
       "      <td>0</td>\n",
       "      <td>540</td>\n",
       "      <td>0</td>\n",
       "      <td>121</td>\n",
       "      <td>0.00</td>\n",
       "      <td>0.00</td>\n",
       "      <td>0.82</td>\n",
       "    </tr>\n",
       "  </tbody>\n",
       "</table>\n",
       "</div>"
      ],
      "text/plain": [
       "    threshold   TP   TN   FP   FN  Precision  Recall  Accuracy\n",
       "0        0.00  121    0  540    0       0.18    1.00      0.18\n",
       "1        0.10  111  108  432   10       0.20    0.92      0.33\n",
       "2        0.20   91  326  214   30       0.30    0.75      0.63\n",
       "3        0.30   49  476   64   72       0.43    0.41      0.79\n",
       "4        0.40   19  533    7  102       0.73    0.16      0.84\n",
       "5        0.50   14  540    0  107       1.00    0.12      0.84\n",
       "6        0.60   14  540    0  107       1.00    0.12      0.84\n",
       "7        0.70   14  540    0  107       1.00    0.12      0.84\n",
       "8        0.80   14  540    0  107       1.00    0.12      0.84\n",
       "9        0.90   14  540    0  107       1.00    0.12      0.84\n",
       "10       1.00    0  540    0  121       0.00    0.00      0.82"
      ]
     },
     "execution_count": 9,
     "metadata": {},
     "output_type": "execute_result"
    }
   ],
   "source": [
    "class_perf_measures(lr_model,X_test,y_test)"
   ]
  },
  {
   "cell_type": "markdown",
   "id": "95bc48e0",
   "metadata": {},
   "source": [
    "Here our aim is to lower the number of FN as it is detrimental to the airline business. Lower should be done optimally while putting some emphasis on FP and accuracy\n",
    "1. **Prob Threshold = 0.1**:\n",
    "</br>FP=393\n",
    "</br>FN=15\n",
    "</br>Precision=0.22\n",
    "</br>Recall=0.88\n",
    "\n",
    "   </br> 0.1 is a relative low threshold required to predict positive outcomes. Since our threshold value is low that is anything below 0.1 will be considered as negatuve and anything above 0.1 will be considered as positive. This means we would expect a LOT of positive predictions. In our case \"positive\" means can flight delayed.\"\n",
    "     we also see a lot of false positive (FP) 393 - this makes sense given the low threshold\n",
    "    \n",
    "   Cost of these mistakes would be in the real world?\n",
    "    </br>* --> Here false positives mean the number of flights which were predicted to be delayed but are actually not delayed. This would cause some minor distress but would not be much detrimental as the flight is actually not delayed which can cause loss of company's business.\n",
    "     How about the FNs - how costly would these be?\n",
    "    </br>* --> Here false negatives mean the number of flights which were predicted to not delayed but are actually delayed. This would be detrimental to the business as these flights are going to get delayed but not predicted by our model\n",
    "   \n",
    "     Given our assumptions above - should we stick with 0.1 as our threshold or move on?\n",
    "     </br>\n",
    " The accuracy score of 0.1 threshold is very low. So we will move to another threshold.\n",
    "<br><br>\n",
    "2. **Prob Threshold = 0.3**:\n",
    "\n",
    "<br>FP=63\n",
    "<br>FN=87\n",
    "<br>Recall=0.31\n",
    "<br>Precision=0.38\n",
    "    - what does this mean\n",
    "   * A probablility threshold of 0.3 means that  anything below 0.3 will be considered as negatuve and anything above 0.3 will be considered as positive\n",
    "<br>what kinds of mistakes are we making\n",
    "   <br>--> The Number of FP are 63 and the number of FN =87, This is not good since our aim is to reduce the number of false negatives which are detrimental to the airline industry\n",
    " <br>--> This a better threshold than 0.1 because the accuracy score is higher.\n",
    "    \n",
    "<br><br>\n",
    "3. Prob Threshold = 0.2*:\n",
    "</br>\n",
    "FP=193\n",
    "</br>\n",
    "FN=52\n",
    "</br>\n",
    "Recall=0.59\n",
    "</br>\n",
    "Precision=0.28\n",
    "</br>\n",
    "    - what does this threshold mean?\n",
    "    </br>\n",
    " A probablility threshold of 0.3 means that  anything below 0.3 will be considered as negatuve and anything above 0.3 will be considered as positive\n",
    " </br>Hve our prediction errors changed?\n",
    " </br>\n",
    " Number of FP=193 number of FN =52. This is the nominal value we are getting in terms of errors and we are reducing the FN while maintaining a good accuracy\n",
    " </br>\n",
    "  \n",
    "<br><br>\n",
    "4. Which threshold would you choose?  Justify your decision.\n",
    "</br>\n",
    "This is a better threshold than 0.1 and 0.3 because we are getting a good accuracy of 0.59 score along with the moderate values of FN.Though our target is to minimise FN we select 0.2 as a threshold because it has a accuracy score of 0.63 as compared to the accuracy score of 0.1 threshold of 0.38"
   ]
  },
  {
   "cell_type": "markdown",
   "id": "0754146f",
   "metadata": {},
   "source": [
    ">[Go to Machine Learning Outline](#ml-model)\n",
    "---"
   ]
  },
  {
   "cell_type": "markdown",
   "id": "50a23435",
   "metadata": {},
   "source": [
    "# 5. Deployment of Model <a class=\"anchor\" id=\"model-deployment\"></a>\n",
    "\n",
    "Optional - Extra Credit for this assignment\n",
    "\n",
    "* [Go to Top](#table-of-content)"
   ]
  },
  {
   "cell_type": "code",
   "execution_count": 10,
   "id": "b6a8fe35",
   "metadata": {},
   "outputs": [],
   "source": [
    "import pickle                                                   # values of X, The model can now forecast the future output based on trends \n",
    "\n",
    "\n",
    "pickle_out = open('classifier', mode='wb')              # We are creating a new object called 'pickle_out'.  This\n",
    "                                                        # object contains a new file called 'classifier' and this\n",
    "                                                        # is in 'write' mode.  And we are opening it to write 'binary'\n",
    "                                                        # to it (wb).\n",
    "            \n",
    "pickle.dump(lr_model, pickle_out)                          # use the pickle library to 'export' or 'translate' our \n",
    "                                                        # previously created ML model object ('model') into the\n",
    "                                                        # binary 'classifier' file created in the code immediately\n",
    "                                                        # preceding this line\n",
    "            \n",
    "pickle_out.close()                                      # close the pickle object now that we've written our Python\n",
    "                                                        # to it."
   ]
  },
  {
   "cell_type": "code",
   "execution_count": 11,
   "id": "c1f1a518",
   "metadata": {},
   "outputs": [
    {
     "name": "stdout",
     "output_type": "stream",
     "text": [
      "Overwriting app.py\n"
     ]
    }
   ],
   "source": [
    "%%writefile app.py\n",
    "\n",
    "import pickle\n",
    "import streamlit as st\n",
    "\n",
    "\n",
    "pickle_in = open('classifier', 'rb')\n",
    "classifier = pickle.load(pickle_in)\n",
    "\n",
    "@st.cache()\n",
    "\n",
    "#Define the function which will make the prediction using data\n",
    "#inputs from users\n",
    "def prediction(sch_dep_time, distance, bad_weather,carrier_us ):\n",
    "    \n",
    "    # Make predictions\n",
    "    prediction = classifier.predict(\n",
    "        [[ sch_dep_time, distance, bad_weather,carrier_us ]])\n",
    "    \n",
    "    if prediction == 0:\n",
    "        pred = 'delayed'\n",
    "    else:\n",
    "        pred = 'not delayed'\n",
    "    return pred\n",
    "\n",
    "# This is the main function in which we define our webpage\n",
    "def main():\n",
    "    \n",
    "    # Create input fields\n",
    "    \n",
    "    sch_dep_time = st.number_input(\"sch_dep_time\",\n",
    "                              min_value=0,\n",
    "                              max_value=12,\n",
    "                              value=1,\n",
    "                              step=1\n",
    "                             )\n",
    "\n",
    "    distance = st.number_input(\"distance\",\n",
    "                              min_value=0,\n",
    "                              max_value=500,\n",
    "                              value=1,\n",
    "                              step=1\n",
    "                             )\n",
    "    bad_weather = st.number_input(\"bad_weather\",\n",
    "                          min_value=0,\n",
    "                          max_value=1,\n",
    "                          value=1,\n",
    "                          step=1\n",
    "                         )\n",
    "    carrier_us = st.number_input(\"carrier_us\",\n",
    "                          min_value=0,\n",
    "                          max_value=1,\n",
    "                          value=1,\n",
    "                          step=1\n",
    "                         )\n",
    "\n",
    "    result = \"\"\n",
    "    \n",
    "    # When 'Predict' is clicked, make the prediction and store it\n",
    "    if st.button(\"Predict\"):\n",
    "        result = prediction(sch_dep_time, distance, bad_weather,carrier_us)\n",
    "        st.success(result)\n",
    "        \n",
    "if __name__=='__main__':\n",
    "    main()\n",
    "    "
   ]
  },
  {
   "cell_type": "code",
   "execution_count": null,
   "id": "8bd612e0",
   "metadata": {},
   "outputs": [],
   "source": []
  },
  {
   "cell_type": "code",
   "execution_count": null,
   "id": "80897e3f",
   "metadata": {},
   "outputs": [],
   "source": []
  }
 ],
 "metadata": {
  "kernelspec": {
   "display_name": "Python 3 (ipykernel)",
   "language": "python",
   "name": "python3"
  },
  "language_info": {
   "codemirror_mode": {
    "name": "ipython",
    "version": 3
   },
   "file_extension": ".py",
   "mimetype": "text/x-python",
   "name": "python",
   "nbconvert_exporter": "python",
   "pygments_lexer": "ipython3",
   "version": "3.9.12"
  }
 },
 "nbformat": 4,
 "nbformat_minor": 5
}
